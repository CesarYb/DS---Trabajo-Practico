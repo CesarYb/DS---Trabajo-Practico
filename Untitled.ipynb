{
 "cells": [
  {
   "cell_type": "code",
   "execution_count": 3,
   "id": "27a597e3",
   "metadata": {},
   "outputs": [],
   "source": [
    "import pandas as pd\n",
    "import numpy as np\n",
    "import matplotlib.pyplot as plt\n",
    "from matplotlib.ticker import ScalarFormatter\n",
    "import seaborn as sns\n",
    "\n",
    "\n"
   ]
  },
  {
   "cell_type": "code",
   "execution_count": 4,
   "id": "9ebb5696",
   "metadata": {},
   "outputs": [],
   "source": [
    "df_2 = pd.read_csv(\"properatti.csv\")"
   ]
  },
  {
   "cell_type": "code",
   "execution_count": 5,
   "id": "17e90794",
   "metadata": {},
   "outputs": [],
   "source": [
    "df = df_2.drop(\"Unnamed: 0\" , axis= 1).copy()"
   ]
  },
  {
   "cell_type": "code",
   "execution_count": 6,
   "id": "28363a05",
   "metadata": {},
   "outputs": [
    {
     "data": {
      "text/plain": [
       "Index(['operation', 'property_type', 'place_name', 'place_with_parent_names',\n",
       "       'country_name', 'state_name', 'geonames_id', 'lat-lon', 'lat', 'lon',\n",
       "       'price', 'currency', 'price_aprox_local_currency', 'price_aprox_usd',\n",
       "       'surface_total_in_m2', 'surface_covered_in_m2', 'price_usd_per_m2',\n",
       "       'price_per_m2', 'floor', 'rooms', 'expenses', 'properati_url',\n",
       "       'description', 'title', 'image_thumbnail'],\n",
       "      dtype='object')"
      ]
     },
     "execution_count": 6,
     "metadata": {},
     "output_type": "execute_result"
    }
   ],
   "source": [
    "df.columns"
   ]
  },
  {
   "cell_type": "code",
   "execution_count": 12,
   "id": "7becb617",
   "metadata": {},
   "outputs": [],
   "source": [
    "# df[\"property_type\"].isnull().sum()"
   ]
  },
  {
   "cell_type": "code",
   "execution_count": 8,
   "id": "caa933e6",
   "metadata": {},
   "outputs": [],
   "source": [
    "cant_prop = df[\"property_type\"].value_counts()"
   ]
  },
  {
   "cell_type": "code",
   "execution_count": 9,
   "id": "0f619552",
   "metadata": {},
   "outputs": [
    {
     "data": {
      "text/plain": [
       "apartment    71065\n",
       "house        40268\n",
       "PH            5751\n",
       "store         4136\n",
       "Name: property_type, dtype: int64"
      ]
     },
     "execution_count": 9,
     "metadata": {},
     "output_type": "execute_result"
    }
   ],
   "source": [
    "cant_prop"
   ]
  },
  {
   "cell_type": "code",
   "execution_count": 10,
   "id": "ee53e39a",
   "metadata": {},
   "outputs": [
    {
     "data": {
      "text/plain": [
       "Text(0.5, 1.0, 'TP | Grupo 4')"
      ]
     },
     "execution_count": 10,
     "metadata": {},
     "output_type": "execute_result"
    },
    {
     "data": {
      "image/png": "[encoded data removed]",
      "text/plain": [
       "<Figure size 432x288 with 1 Axes>"
      ]
     },
     "metadata": {
      "needs_background": "light"
     },
     "output_type": "display_data"
    }
   ],
   "source": [
    "# Tipos de propiedad - Campo obligatorio sin nulos\n",
    "df.groupby(\"property_type\")[\"property_type\"].count().sort_values(ascending = False).plot(kind=\"bar\")\n",
    "plt.xlabel(\"Tipos de propiedades\")\n",
    "plt.ylabel(\"Cantidad\")\n",
    "plt.title(\"TP | Grupo 4\")"
   ]
  },
  {
   "cell_type": "code",
   "execution_count": 11,
   "id": "ae7856d8",
   "metadata": {},
   "outputs": [
    {
     "ename": "SyntaxError",
     "evalue": "invalid syntax (<ipython-input-11-5ca48470159d>, line 3)",
     "output_type": "error",
     "traceback": [
      "\u001b[1;36m  File \u001b[1;32m\"<ipython-input-11-5ca48470159d>\"\u001b[1;36m, line \u001b[1;32m3\u001b[0m\n\u001b[1;33m    graph=sns.pairplot(df[[col_relacionadas],hue=\"property_type\")\u001b[0m\n\u001b[1;37m                                                ^\u001b[0m\n\u001b[1;31mSyntaxError\u001b[0m\u001b[1;31m:\u001b[0m invalid syntax\n"
     ]
    }
   ],
   "source": []
  }
 ],
 "metadata": {
  "kernelspec": {
   "display_name": "Python 3",
   "language": "python",
   "name": "python3"
  },
  "language_info": {
   "codemirror_mode": {
    "name": "ipython",
    "version": 3
   },
   "file_extension": ".py",
   "mimetype": "text/x-python",
   "name": "python",
   "nbconvert_exporter": "python",
   "pygments_lexer": "ipython3",
   "version": "3.8.8"
  }
 },
 "nbformat": 4,
 "nbformat_minor": 5
}
